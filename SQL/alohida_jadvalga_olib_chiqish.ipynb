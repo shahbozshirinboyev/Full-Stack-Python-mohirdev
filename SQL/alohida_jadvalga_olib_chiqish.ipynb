{
 "cells": [
  {
   "cell_type": "markdown",
   "id": "88f08e38",
   "metadata": {},
   "source": [
    "`To'g'ri dizayn: Alohida jadvalga olib chiqish.`"
   ]
  },
  {
   "cell_type": "markdown",
   "id": "7ba98ef3",
   "metadata": {},
   "source": [
    "> Jadval uchun to'g'ri dizayn qilishning usullaridan yana  bir bu, har bir `column`'da bitta qiymat saqlash kerak."
   ]
  },
  {
   "cell_type": "code",
   "execution_count": null,
   "id": "4b1b4b34",
   "metadata": {
    "vscode": {
     "languageId": "plaintext"
    }
   },
   "outputs": [],
   "source": [
    "example_db=# SELECT * FROM contacts;\n",
    " first_name |  last_name   | birthdate  | profession |       interests       | id | phone_number\n",
    "------------+--------------+------------+------------+-----------------------+----+---------------\n",
    " Umid       | Murodov      | 1998-12-08 | doctor     | Reading               |  4 | +998930091166\n",
    " Jahongir   | Otajonov     | 1978-10-05 | doctor     | Cooking               |  5 | +998930091166\n",
    " Navroz     | Abdumurodov  | 1999-03-21 | quruvchi   | Cooking, Reading      |  2 | +998930091166\n",
    " Javohir    | Abdurashidov | 1999-03-21 | quruvchi   | Football, Tennis      |  3 | +998930091166\n",
    " Amirxon    | Umarov       | 1998-12-28 | electric   | Eating                |  8 | +998930091166\n",
    " Dilya      | Neymatova    | 2002-05-12 | modeller   | Coding, Listing music |  9 | +998930091166\n",
    " Shahboz    | Shirinboyev  | 1999-12-03 | Designer   | Coding, Reading       |  1 | +998930091166\n",
    " Tom        | Caliny       | 1960-12-23 | designer   | Football, Tennis      |  6 | +998930091166\n",
    " Tim        | Kalith       | 1980-11-11 | driver     | Tennis                |  7 | +998930091166\n",
    "(9 rows)\n",
    "\n",
    "\n",
    "example_db=#"
   ]
  },
  {
   "cell_type": "markdown",
   "id": "df7735de",
   "metadata": {},
   "source": [
    "Yuqoridagi jadval to'g'ri dizayn qilinmagan, chunki bu `interests` columnida bitta qitmat emas bir nechta qiymatlar saqlanayabdi, bu esa jadvalning to'g'ri dizayn qoidalariga zid."
   ]
  },
  {
   "cell_type": "markdown",
   "id": "7ee2e8dd",
   "metadata": {},
   "source": [
    "Bu muammoni qanday qilib hal qilishni ko'rib chiqamiz.\n",
    "\n",
    "> `column` ichidagi ma'lumotlarni alohida columnlarga bo'lamiz."
   ]
  },
  {
   "cell_type": "markdown",
   "id": "dfdbf96a",
   "metadata": {},
   "source": [
    "![alt text](image-table-sprate-column.png)"
   ]
  },
  {
   "cell_type": "markdown",
   "id": "7c4b209a",
   "metadata": {},
   "source": [
    "Ammo bu yechim boshqa muammo yuzaga chiqaradi, agar biron `user`ni `interests`'lari soni 3 tadan ko'p bo'lsa yana yangi column qo'shish kerak va bundan tashqari yana bir necha noqulayliklar yuzaga chiqadi."
   ]
  },
  {
   "cell_type": "markdown",
   "id": "7450fc53",
   "metadata": {},
   "source": [
    "> Jadval tuzishdagi to'g'ri dizayn qoidalaridan yana biri `bir xil turdagi ma'lumotlarni faqatgina bitta columnda saqlash kerak.` Yuqoridagi rasmga qaraydigan bo'lsak biz hozirgina aytgan qoidamizni buzayapmiz. Bu xatolik ham yomon dizaynga kiradi."
   ]
  },
  {
   "cell_type": "markdown",
   "id": "3bc952a5",
   "metadata": {},
   "source": [
    "09:26 - sekonds"
   ]
  }
 ],
 "metadata": {
  "language_info": {
   "name": "python"
  }
 },
 "nbformat": 4,
 "nbformat_minor": 5
}
