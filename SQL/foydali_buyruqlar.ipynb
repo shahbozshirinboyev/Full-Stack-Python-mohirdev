{
 "cells": [
  {
   "cell_type": "markdown",
   "metadata": {},
   "source": [
    "`FOYDALI BUYRUQLAR`"
   ]
  },
  {
   "cell_type": "markdown",
   "metadata": {},
   "source": [
    "`\\l` - List of databases\n"
   ]
  }
 ],
 "metadata": {
  "language_info": {
   "name": "python"
  }
 },
 "nbformat": 4,
 "nbformat_minor": 2
}
