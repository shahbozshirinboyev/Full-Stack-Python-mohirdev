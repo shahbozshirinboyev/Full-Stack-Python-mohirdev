{
 "cells": [
  {
   "cell_type": "markdown",
   "id": "f0d73ca5",
   "metadata": {},
   "source": [
    "`Jadvallar orasidagi munosabat turlari`"
   ]
  },
  {
   "cell_type": "code",
   "execution_count": null,
   "id": "89e3f205",
   "metadata": {
    "vscode": {
     "languageId": "plaintext"
    }
   },
   "outputs": [],
   "source": [
    "example_db=# \\d contacts\n",
    "                                         Table \"public.contacts\"\n",
    "    Column     |          Type          | Collation | Nullable |                 Default\n",
    "---------------+------------------------+-----------+----------+-----------------------------------------\n",
    " first_name    | character varying(50)  |           |          |\n",
    " last_name     | character varying(50)  |           |          |\n",
    " birthdate     | date                   |           |          |\n",
    " interests     | character varying(100) |           |          |\n",
    " id            | integer                |           | not null | nextval('my_contacts_id_seq'::regclass)\n",
    " phone_number  | character varying(60)  |           | not null |\n",
    " profession_id | integer                |           |          |\n",
    "Indexes:\n",
    "    \"my_contacts_pkey\" PRIMARY KEY, btree (id)\n",
    "Foreign-key constraints:\n",
    "    \"contacts_profession_id_fkey\" FOREIGN KEY (profession_id) REFERENCES profession(id)\n",
    "\n",
    "\n",
    "example_db=#"
   ]
  },
  {
   "cell_type": "markdown",
   "id": "6e5f5db9",
   "metadata": {},
   "source": [
    "> `FOREIGN KEY (Tashqi kalit)` — bu bir jadvaldagi ustun (yoki ustunlar guruhi) boshqa bir jadvaldagi ustun bilan bog‘langanini bildiradi."
   ]
  },
  {
   "cell_type": "code",
   "execution_count": null,
   "id": "ef24ab4a",
   "metadata": {
    "vscode": {
     "languageId": "plaintext"
    }
   },
   "outputs": [],
   "source": [
    "example_db=# UPDATE contacts SET profession_id = 4 WHERE id = 1;\n",
    "UPDATE 1\n",
    "example_db=# UPDATE contacts SET profession_id = 1 WHERE id = 2;\n",
    "UPDATE 1\n",
    "example_db=# UPDATE contacts SET profession_id = 3 WHERE id = 3;\n",
    "UPDATE 1\n",
    "example_db=# UPDATE contacts SET profession_id = 2 WHERE id = 5;\n",
    "UPDATE 1\n",
    "example_db=# UPDATE contacts SET profession_id = 6 WHERE id = 6;\n",
    "UPDATE 1\n",
    "example_db=# UPDATE contacts SET profession_id = 6 WHERE id =7;\n",
    "UPDATE 1\n",
    "example_db=# UPDATE contacts SET profession_id = 2 WHERE id = 8;\n",
    "UPDATE 1\n",
    "example_db=# UPDATE contacts SET profession_id = 5 WHERE id = 9;\n",
    "UPDATE 1\n",
    "example_db=# UPDATE contacts SET profession_id = 2 WHERE id = 10;\n",
    "UPDATE 1\n",
    "example_db=# UPDATE contacts SET profession_id = 4 WHERE id = 11;\n",
    "UPDATE 1\n",
    "example_db=# SELECT * FROM contacts;\n",
    " first_name |  last_name   | birthdate  |       interests       | id | phone_number  | profession_id\n",
    "------------+--------------+------------+-----------------------+----+---------------+---------------\n",
    " Umid       | Murodov      | 1998-12-08 | Reading               |  4 | +998930091166 |             3\n",
    " Shahboz    | Shirinboyev  | 1999-12-03 | Coding, Reading       |  1 | +998930091166 |             4\n",
    " Navroz     | Abdumurodov  | 1999-03-21 | Cooking, Reading      |  2 | +998930091166 |             1\n",
    " Javohir    | Abdurashidov | 1999-03-21 | Football, Tennis      |  3 | +998930091166 |             3\n",
    " Jahongir   | Otajonov     | 1978-10-05 | Cooking               |  5 | +998930091166 |             2\n",
    " Tom        | Caliny       | 1960-12-23 | Football, Tennis      |  6 | +998930091166 |             6\n",
    " Tim        | Kalith       | 1980-11-11 | Tennis                |  7 | +998930091166 |             6\n",
    " Amirxon    | Umarov       | 1998-12-28 | Eating                |  8 | +998930091166 |             2\n",
    " Dilya      | Neymatova    | 2002-05-12 | Coding, Listing music |  9 | +998930091166 |             5\n",
    " Ahmad      | Qahhorov     | 1994-09-23 | Reading, Music        | 10 | +998932457689 |             2\n",
    " Hilola     | Rahmonova    | 2002-12-28 | Tennis                | 11 | +998904567890 |             4\n",
    "(11 rows)\n",
    "\n",
    "\n",
    "example_db=#"
   ]
  },
  {
   "cell_type": "markdown",
   "id": "810b516a",
   "metadata": {},
   "source": [
    "Barcha tashqa kalitlarni `profession_id` ustuniga bog'lab chiqdik."
   ]
  },
  {
   "cell_type": "markdown",
   "id": "31ae6fe8",
   "metadata": {},
   "source": [
    "Jadvallar orasidagi munosabat turlari:\n",
    "\n",
    "1. `One to Many` - bu bitta jadvaldagi bitta yozuv, boshqa jadvaldagi bir nechta yozuvlar bilan bog‘langan bo‘lishini bildiradi."
   ]
  },
  {
   "cell_type": "markdown",
   "id": "18572dfb",
   "metadata": {},
   "source": [
    "![alt text](image-one-to-many.png)"
   ]
  },
  {
   "cell_type": "markdown",
   "id": "de2d7723",
   "metadata": {},
   "source": [
    "Bu turda qanday qilib bog'lanishlar amalga oshirilishini ko'rdik yuqorida, yana bir eslab o'tamiz. \n",
    "\n",
    "`ALTER TABLE contacts ADD COLUMN profession_id INT REFERENCES profession (id);`"
   ]
  },
  {
   "cell_type": "markdown",
   "id": "8c44999c",
   "metadata": {},
   "source": [
    "![alt text](image-REFERENCES.png)"
   ]
  },
  {
   "cell_type": "markdown",
   "id": "9b2c5a88",
   "metadata": {},
   "source": [
    "2. `One to One` munosabati — bu bitta jadvaldagi har bir yozuv faqatgina yana bir jadvaldagi bitta yozuv bilan bog‘lanishini anglatadi."
   ]
  }
 ],
 "metadata": {
  "language_info": {
   "name": "python"
  }
 },
 "nbformat": 4,
 "nbformat_minor": 5
}
