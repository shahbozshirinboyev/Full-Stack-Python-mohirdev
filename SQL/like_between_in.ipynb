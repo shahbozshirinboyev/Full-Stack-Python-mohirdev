{
 "cells": [
  {
   "cell_type": "markdown",
   "id": "50766e28",
   "metadata": {},
   "source": [
    "`LIKE`, `BETWEEN` va `IN`"
   ]
  },
  {
   "cell_type": "markdown",
   "id": "6e4b012c",
   "metadata": {},
   "source": [
    "Bizda quyidagi jadval bor:"
   ]
  },
  {
   "cell_type": "code",
   "execution_count": null,
   "id": "55689c14",
   "metadata": {
    "vscode": {
     "languageId": "plaintext"
    }
   },
   "outputs": [],
   "source": [
    "example_db=# SELECT * FROM my_contacts;\n",
    " first_name |  last_name   | birthdate  | profession |       interests\n",
    "------------+--------------+------------+------------+-----------------------\n",
    " Shahboz    | Shirinboyev  | 1999-12-03 | Designer   | Coding, Reading books\n",
    " Navroz     | Abdumurodov  | 1999-03-21 | quruvchi   | eating\n",
    " Javohir    | Abdurashidov | 1999-03-21 | quruvchi   | eating\n",
    " Umid       | Murodov      | 1998-12-08 | doctor     | Reading\n",
    " Jahongir   | Otajonov     | 1978-10-05 | doctor     | Cooking\n",
    " Amirxon    | Umarov       |            |            |\n",
    " Hayotxon   | Jalilov      |            |            |\n",
    " Dilya      | Neymatova    |            |            | Coding\n",
    "(8 rows)\n",
    "\n",
    "\n",
    "example_db=#"
   ]
  },
  {
   "cell_type": "markdown",
   "id": "f5826a1a",
   "metadata": {},
   "source": [
    "![alt text](image-null-notnull.png)"
   ]
  },
  {
   "cell_type": "markdown",
   "id": "b741a5a1",
   "metadata": {},
   "source": [
    "Jadvalda `null` qiymatiga ega bo'lgan ustunlar bor, ularni ajratib olish uchun quyidagicha komandalar kerak bo'ladi.\n",
    "\n",
    "`SELECT * FROM my_contacts WHERE birthdate IS NULL;`"
   ]
  },
  {
   "cell_type": "code",
   "execution_count": null,
   "id": "9832d9dc",
   "metadata": {
    "vscode": {
     "languageId": "plaintext"
    }
   },
   "outputs": [],
   "source": [
    "example_db=# SELECT * FROM my_contacts WHERE birthdate IS NULL;\n",
    " first_name | last_name | birthdate | profession | interests\n",
    "------------+-----------+-----------+------------+-----------\n",
    " Amirxon    | Umarov    |           |            |\n",
    " Hayotxon   | Jalilov   |           |            |\n",
    " Dilya      | Neymatova |           |            | Coding\n",
    "(3 rows)\n",
    "\n",
    "\n",
    "example_db=#"
   ]
  },
  {
   "cell_type": "markdown",
   "id": "f985a9b3",
   "metadata": {},
   "source": [
    "`null` qiymatga ega bo'lmagan ustunlarni ajratib olish uchun esa:\n",
    "\n",
    "`SELECT * FROM my_contacts WHERE birthdate IS NOT NULL`"
   ]
  },
  {
   "cell_type": "markdown",
   "id": "4057f03c",
   "metadata": {},
   "source": [
    "example_db=# SELECT * FROM my_contacts WHERE birthdate IS NOT NULL;\n",
    " first_name |  last_name   | birthdate  | profession |       interests\n",
    "------------+--------------+------------+------------+-----------------------\n",
    " Shahboz    | Shirinboyev  | 1999-12-03 | Designer   | Coding, Reading books\n",
    " Navroz     | Abdumurodov  | 1999-03-21 | quruvchi   | eating\n",
    " Javohir    | Abdurashidov | 1999-03-21 | quruvchi   | eating\n",
    " Umid       | Murodov      | 1998-12-08 | doctor     | Reading\n",
    " Jahongir   | Otajonov     | 1978-10-05 | doctor     | Cooking\n",
    "(5 rows)\n",
    "\n",
    "\n",
    "example_db=#"
   ]
  },
  {
   "cell_type": "markdown",
   "id": "d35c6130",
   "metadata": {},
   "source": [
    "03:22"
   ]
  }
 ],
 "metadata": {
  "language_info": {
   "name": "python"
  }
 },
 "nbformat": 4,
 "nbformat_minor": 5
}
