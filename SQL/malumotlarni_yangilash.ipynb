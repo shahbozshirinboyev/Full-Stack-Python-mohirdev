{
 "cells": [
  {
   "cell_type": "markdown",
   "id": "f5f1e407",
   "metadata": {},
   "source": [
    "`MA'LUMOTLARNI YANGILASH`"
   ]
  },
  {
   "cell_type": "markdown",
   "id": "446db4bc",
   "metadata": {},
   "source": []
  }
 ],
 "metadata": {
  "language_info": {
   "name": "python"
  }
 },
 "nbformat": 4,
 "nbformat_minor": 5
}
