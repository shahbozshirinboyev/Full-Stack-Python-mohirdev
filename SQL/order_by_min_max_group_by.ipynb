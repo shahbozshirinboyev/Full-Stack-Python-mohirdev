{
 "cells": [
  {
   "cell_type": "markdown",
   "id": "7cc52f74",
   "metadata": {},
   "source": [
    "Bu darsda ba'zi `SELECT`'ga qo'shib foydalaniladigan `kalit so'zlar`ni ko'rib chiqamiz, ular yordamida jadvallardagi ma'lumotlarni yanada aniqroq ravishda olishimiz mumkin bo'ladi."
   ]
  },
  {
   "cell_type": "markdown",
   "id": "7f885d85",
   "metadata": {},
   "source": [
    "`ORDER BY`"
   ]
  },
  {
   "cell_type": "markdown",
   "id": "677f4591",
   "metadata": {},
   "source": [
    "Bu kalit so'z orqali biz jadvaldagi ma'lumotlarni ma'lum bir tartib asosida chiqarishimiz mumkin bo'ladi."
   ]
  },
  {
   "cell_type": "markdown",
   "id": "28972d6f",
   "metadata": {},
   "source": [
    "Oddiy yo'l bilan jadvalni ekranga chaqiradigan bo'lsak narxlar ttartibsiz ravishda chiqganligini ko'rishimiz mumkin:"
   ]
  },
  {
   "cell_type": "code",
   "execution_count": null,
   "id": "8f13ef28",
   "metadata": {
    "vscode": {
     "languageId": "plaintext"
    }
   },
   "outputs": [],
   "source": [
    "example_db=# SELECT * FROM doughnut_list;\n",
    "  name  |  type  | price\n",
    "--------+--------+-------\n",
    " Cherry | filled |  3.00\n",
    " Apple  | sweet  |  5.00\n",
    " Mazza  | cermy  |  1.23\n",
    " Edge   | sweet  |  4.30\n",
    "(4 rows)\n",
    "\n",
    "\n",
    "example_db=#"
   ]
  },
  {
   "cell_type": "markdown",
   "id": "46d8c96a",
   "metadata": {},
   "source": [
    "Keling shu narxlarni ma'lum tartib asosida chiqaramiz:"
   ]
  },
  {
   "cell_type": "markdown",
   "id": "57dd5acf",
   "metadata": {},
   "source": [
    "`SELECT * FROM doughnut_list ORDER BY price;`"
   ]
  },
  {
   "cell_type": "code",
   "execution_count": null,
   "id": "a506893a",
   "metadata": {
    "vscode": {
     "languageId": "plaintext"
    }
   },
   "outputs": [],
   "source": [
    "example_db=# SELECT * FROM doughnut_list ORDER BY price;\n",
    "  name  |  type  | price\n",
    "--------+--------+-------\n",
    " Mazza  | cermy  |  1.23\n",
    " Cherry | filled |  3.00\n",
    " Edge   | sweet  |  4.30\n",
    " Apple  | sweet  |  5.00\n",
    "(4 rows)\n",
    "\n",
    "\n",
    "example_db=#"
   ]
  },
  {
   "cell_type": "markdown",
   "id": "caa7e776",
   "metadata": {},
   "source": [
    "Natijani ko'rib turibmiz narxlar kichik qiymatdan katta qiymatga qarab o'sib borgan."
   ]
  },
  {
   "cell_type": "markdown",
   "id": "0537366a",
   "metadata": {},
   "source": [
    "Boshqacharoq usulda tartiblashni xoxlab qolsak, masalan `type` bo'yicha bo'lsa, ya'ni type ustunidagi so'zlarni bosh harflarini alifbo tartibida qilib `sort` qilib beradi. "
   ]
  },
  {
   "cell_type": "markdown",
   "id": "17fddcad",
   "metadata": {},
   "source": [
    "`SELECT * FROM doughnut_list ORDER BY type;`"
   ]
  },
  {
   "cell_type": "code",
   "execution_count": null,
   "id": "cb7ae596",
   "metadata": {
    "vscode": {
     "languageId": "plaintext"
    }
   },
   "outputs": [],
   "source": [
    "example_db=# SELECT * FROM doughnut_list ORDER BY type;\n",
    "  name  |  type  | price\n",
    "--------+--------+-------\n",
    " Mazza  | cermy  |  1.23\n",
    " Cherry | filled |  3.00\n",
    " Apple  | sweet  |  5.00\n",
    " Edge   | sweet  |  4.30\n",
    "(4 rows)\n",
    "\n",
    "\n",
    "example_db=#"
   ]
  },
  {
   "cell_type": "markdown",
   "id": "2ba88ca3",
   "metadata": {},
   "source": [
    "Agar bizga narxlar `ORDER BY` dagi kabi kichigidan kattasiga emas teskari ravishda chiqishi kerak bo'lsa unda biz `ORDER BY ... DESC` dan foydalanishimiz mumkin."
   ]
  },
  {
   "cell_type": "code",
   "execution_count": null,
   "id": "a2b32bc6",
   "metadata": {
    "vscode": {
     "languageId": "plaintext"
    }
   },
   "outputs": [],
   "source": [
    "example_db=# SELECT * FROM doughnut_list ORDER BY price DESC;\n",
    "  name  |  type  | price\n",
    "--------+--------+-------\n",
    " Apple  | sweet  |  5.00\n",
    " Edge   | sweet  |  4.30\n",
    " Cherry | filled |  3.00\n",
    " Mazza  | cermy  |  1.23\n",
    "(4 rows)\n",
    "\n",
    "\n",
    "example_db=#"
   ]
  },
  {
   "cell_type": "markdown",
   "id": "c15f021d",
   "metadata": {},
   "source": [
    "DESC - Descending"
   ]
  },
  {
   "cell_type": "markdown",
   "id": "949160e8",
   "metadata": {},
   "source": [
    "`SUM`"
   ]
  },
  {
   "cell_type": "markdown",
   "id": "480eae96",
   "metadata": {},
   "source": [
    "Vazifa sifatida qarasak: bizga endi yuqoridagi `doughnut_list` ichidagi barcha `doughnut`'larni qiymatlarini (narxlarini) yig'indisi kerak:"
   ]
  },
  {
   "cell_type": "markdown",
   "id": "86d395fc",
   "metadata": {},
   "source": [
    "`SELECT SUM(price) FROM doughnut_list;`"
   ]
  },
  {
   "cell_type": "code",
   "execution_count": null,
   "id": "e3beac5f",
   "metadata": {
    "vscode": {
     "languageId": "plaintext"
    }
   },
   "outputs": [],
   "source": [
    "example_db=# SELECT SUM(price) FROM doughnut_list;\n",
    "  sum\n",
    "-------\n",
    " 13.53\n",
    "(1 row)\n",
    "\n",
    "\n",
    "example_db=#"
   ]
  },
  {
   "cell_type": "markdown",
   "id": "2f94d434",
   "metadata": {},
   "source": [
    "05.10 seconds"
   ]
  }
 ],
 "metadata": {
  "language_info": {
   "name": "python"
  }
 },
 "nbformat": 4,
 "nbformat_minor": 5
}
