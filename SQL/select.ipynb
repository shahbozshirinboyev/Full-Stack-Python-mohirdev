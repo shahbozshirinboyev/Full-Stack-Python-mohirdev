{
 "cells": [
  {
   "cell_type": "markdown",
   "id": "044847c8",
   "metadata": {},
   "source": [
    "`SELECT`"
   ]
  },
  {
   "cell_type": "markdown",
   "id": "f3a713fa",
   "metadata": {},
   "source": [
    "Bu mavzuda biz, ma'lumotlarni chiqarishni ko'rib chiqamiz, `pgAdmin` dasturi orqali tablelardagi ma'lumotlarni ko'rayotgan edik va bu dastur quydagi amalni bajarib ma'lumotlarnini bizga taqdim etayotgan edi: "
   ]
  },
  {
   "cell_type": "code",
   "execution_count": null,
   "id": "a3bb942a",
   "metadata": {
    "vscode": {
     "languageId": "plaintext"
    }
   },
   "outputs": [],
   "source": [
    "SELECT * FROM public.doughnut_list"
   ]
  },
  {
   "cell_type": "markdown",
   "id": "023c68fa",
   "metadata": {},
   "source": [
    "Terminal orqali biron tabledagi ma'lumotlarni ko'rish uchun quyidagi qatorni terminalga kiritishimiz kerak:"
   ]
  },
  {
   "cell_type": "code",
   "execution_count": null,
   "id": "cd44cd1e",
   "metadata": {
    "vscode": {
     "languageId": "plaintext"
    }
   },
   "outputs": [],
   "source": [
    "SELECT * FROM my_contacts;"
   ]
  },
  {
   "cell_type": "markdown",
   "id": "e063f13c",
   "metadata": {},
   "source": [
    "Natija quyidagi ko'rinishda bo'ladi."
   ]
  },
  {
   "cell_type": "code",
   "execution_count": null,
   "id": "9caf5d2c",
   "metadata": {
    "vscode": {
     "languageId": "plaintext"
    }
   },
   "outputs": [],
   "source": [
    "example_db=# SELECT * FROM my_contacts;\n",
    " first_name |  last_name  | birthdate  | profession |       interests\n",
    "------------+-------------+------------+------------+-----------------------\n",
    " Shahboz    | Shirinboyev | 1999-12-03 | Designer   | Coding, Reading books\n",
    " Umid       | Murodov     |            |            |\n",
    " JAhongir   | Otajonov    |            |            |\n",
    "(3 rows)\n",
    "\n",
    "example_db=#"
   ]
  },
  {
   "cell_type": "markdown",
   "id": "6bd1b93c",
   "metadata": {},
   "source": [
    "Odatda bunday jadvallardagi ma'lumotlar juda katta bo'ladi va bizga kerakli qisminigina ko'rishimiz kerak bo'ladi: Bunday holatda `SELECT` so'rovlarini biroz o'zgartiramiz:"
   ]
  },
  {
   "cell_type": "code",
   "execution_count": null,
   "id": "df43310f",
   "metadata": {
    "vscode": {
     "languageId": "plaintext"
    }
   },
   "outputs": [],
   "source": [
    "SELECT * FROM my_contacts WHERE firts_name = 'Shahboz';"
   ]
  },
  {
   "cell_type": "markdown",
   "id": "f282e1ca",
   "metadata": {},
   "source": [
    "Natija:"
   ]
  },
  {
   "cell_type": "code",
   "execution_count": null,
   "id": "b19fbce8",
   "metadata": {
    "vscode": {
     "languageId": "plaintext"
    }
   },
   "outputs": [],
   "source": [
    "example_db=# SELECT * FROM my_contacts WHERE first_name = 'Shahboz';\n",
    " first_name |  last_name  | birthdate  | profession |       interests\n",
    "------------+-------------+------------+------------+-----------------------\n",
    " Shahboz    | Shirinboyev | 1999-12-03 | Designer   | Coding, Reading books\n",
    "(1 row)\n",
    "\n",
    "\n",
    "example_db=#"
   ]
  },
  {
   "cell_type": "markdown",
   "id": "1fea5d7a",
   "metadata": {},
   "source": [
    "07.27 - seconds"
   ]
  }
 ],
 "metadata": {
  "language_info": {
   "name": "python"
  }
 },
 "nbformat": 4,
 "nbformat_minor": 5
}
