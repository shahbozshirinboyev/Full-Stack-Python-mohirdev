{
 "cells": [
  {
   "cell_type": "markdown",
   "id": "1e718ed9",
   "metadata": {},
   "source": [
    "`Sozlash` (Setting up)\n",
    "\n",
    "![alt text](image.png)\n",
    "\n",
    "`Database Application`\n",
    "- Microsoft SQL Server\n",
    "- MySQL\n",
    "- PostgreSQL\n",
    "  - Bepul\n",
    "  - Sodda\n",
    "  - Mashhur\n",
    "\n",
    "Bu kursda `PostgreSQL` dan foydalanib SQL tilini o'rganamiz."
   ]
  },
  {
   "cell_type": "markdown",
   "id": "88d3a71c",
   "metadata": {},
   "source": [
    "`O'rnatish` (Installation)\n",
    "\n",
    "> O'rnatish operatsion tizimga bog'liq (boshqa dasturlar kabi)\n",
    "\n",
    "- Macda:\n",
    "  - `brew install postgresql`\n",
    "- Windowsda:\n",
    "  - `winget search postgresql`\n",
    "  - `winget install PostgreSQL.PostgreSQL.17`\n",
    "  - packet id'si orqali o'rnatiladi\n",
    "  - `path` qo'shish:\n",
    "  \n",
    "$oldPath = [Environment]::GetEnvironmentVariable(\"Path\", \"User\")\n",
    "\n",
    "$newPath = \"$oldPath;C:\\Program Files\\PostgreSQL\\17\\bin\"\n",
    "\n",
    "[Environment]::SetEnvironmentVariable(\"Path\", $newPath, \"User\")\n",
    "\n",
    "- Linuxda:\n",
    "  - `sudo apt update`, `sudo apt install postgresql postgresql-contrib`\n",
    "\n"
   ]
  },
  {
   "cell_type": "markdown",
   "id": "5d27e1e2",
   "metadata": {},
   "source": [
    "PostgreSQL birinchi o'rnatilganda unda default database bo'ladi, unga ulanishimiz kerak:\n",
    "- `psql postgres`"
   ]
  }
 ],
 "metadata": {
  "language_info": {
   "name": "python"
  }
 },
 "nbformat": 4,
 "nbformat_minor": 5
}
