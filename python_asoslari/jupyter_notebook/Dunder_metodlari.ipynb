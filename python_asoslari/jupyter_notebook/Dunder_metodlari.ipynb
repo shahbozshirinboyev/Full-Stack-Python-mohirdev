{
 "cells": [
  {
   "cell_type": "markdown",
   "id": "94d47dee",
   "metadata": {},
   "source": [
    "Pythonda har bir obyektlar uchun maxsus metodlar bor bular `dunder metodlari` deb ataladi.\n",
    "\n",
    "`duble underscore` - `dunder`\n",
    "\n",
    "`Metod`\t     -        `Maqsadi`\n",
    "\n",
    "`__init__`     -    Obyekt yaratilganda ishga tushadi (konstruktor)\n",
    "\n",
    "`__str__`      -    print(obj) chaqirilganda obyektni qanday matn ko‘rinishida chiqishini belgilaydi\n",
    "\n",
    "`__repr__`\t   -    Obyektni rasmiy (debug) ko‘rinishda ifodalash uchun ishlatiladi\n",
    "\n",
    "`__len__`\t     -    len(obj) chaqirilganda ishlaydi\n",
    "\n",
    "`__eq__`\t     -    obj1 == obj2 taqqoslash uchun ishlaydi\n",
    "\n",
    "`__lt__`\t     -    obj1 < obj2 taqqoslash uchun ishlaydi\n",
    "\n",
    "`__add__`\t     -    obj1 + obj2 qo‘shish amali uchun ishlaydi\n",
    "\n",
    "`__getitem__`\t -    obj[key] sintaksisida ishlatiladi (indekslash uchun)\n",
    "\n",
    "`__setitem__`  -    obj[key] = value qiymat o‘rnatish uchun\n",
    "\n",
    "`__call__`\t   -    Obyektni funksiya kabi chaqirishga imkon beradi: obj()\n",
    "\n",
    "yana ko'plab dunder metodlari bor."
   ]
  },
  {
   "cell_type": "code",
   "execution_count": 12,
   "id": "f4d71cd5",
   "metadata": {},
   "outputs": [],
   "source": [
    "from uuid import uuid4\n",
    "\n",
    "class Auto():\n",
    "  num_auto = 0    # classga xos xususiyat\n",
    "  PI = 3.141519   # bu o'zgaruvchiga istalgan shu class bilan yaratilgan obyekt murojaat qilishi mumkin\n",
    "  \"\"\"Avtomobil classi\"\"\"\n",
    "  def __init__(self, model, rang, yil, narx, km=0):\n",
    "    self.model = model\n",
    "    self.rang = rang\n",
    "    self.yil = yil\n",
    "    self.narx = narx\n",
    "    self.__km = km       # Inkapsulatsiya qilingan xususiyat\n",
    "    self.__id = uuid4()  # Inkapsulatsiya qilingan xususiyat\n",
    "    Auto.num_auto += 1\n",
    "\n",
    "  def get_km(self):\n",
    "    return self.__km\n",
    "\n",
    "auto1 = Auto('Onix LTZ', 'gray', 2024, 13500, 234)"
   ]
  },
  {
   "cell_type": "code",
   "execution_count": 5,
   "id": "40099f61",
   "metadata": {},
   "outputs": [
    {
     "data": {
      "text/plain": [
       "['PI',\n",
       " '__class__',\n",
       " '__delattr__',\n",
       " '__dict__',\n",
       " '__dir__',\n",
       " '__doc__',\n",
       " '__eq__',\n",
       " '__firstlineno__',\n",
       " '__format__',\n",
       " '__ge__',\n",
       " '__getattribute__',\n",
       " '__getstate__',\n",
       " '__gt__',\n",
       " '__hash__',\n",
       " '__init__',\n",
       " '__init_subclass__',\n",
       " '__le__',\n",
       " '__lt__',\n",
       " '__module__',\n",
       " '__ne__',\n",
       " '__new__',\n",
       " '__reduce__',\n",
       " '__reduce_ex__',\n",
       " '__repr__',\n",
       " '__setattr__',\n",
       " '__sizeof__',\n",
       " '__static_attributes__',\n",
       " '__str__',\n",
       " '__subclasshook__',\n",
       " '__weakref__',\n",
       " 'get_km',\n",
       " 'num_auto']"
      ]
     },
     "execution_count": 5,
     "metadata": {},
     "output_type": "execute_result"
    }
   ],
   "source": [
    "# Classning metodlarini ko'rish (Obyektning)\n",
    "dir(Auto)"
   ]
  },
  {
   "cell_type": "code",
   "execution_count": null,
   "id": "741e9781",
   "metadata": {},
   "outputs": [
    {
     "data": {
      "text/plain": [
       "['PI',\n",
       " '_Auto__id',\n",
       " '_Auto__km',\n",
       " '__class__',\n",
       " '__delattr__',\n",
       " '__dict__',\n",
       " '__dir__',\n",
       " '__doc__',\n",
       " '__eq__',\n",
       " '__firstlineno__',\n",
       " '__format__',\n",
       " '__ge__',\n",
       " '__getattribute__',\n",
       " '__getstate__',\n",
       " '__gt__',\n",
       " '__hash__',\n",
       " '__init__',\n",
       " '__init_subclass__',\n",
       " '__le__',\n",
       " '__lt__',\n",
       " '__module__',\n",
       " '__ne__',\n",
       " '__new__',\n",
       " '__reduce__',\n",
       " '__reduce_ex__',\n",
       " '__repr__',\n",
       " '__setattr__',\n",
       " '__sizeof__',\n",
       " '__static_attributes__',\n",
       " '__str__',\n",
       " '__subclasshook__',\n",
       " '__weakref__',\n",
       " 'get_km',\n",
       " 'model',\n",
       " 'narx',\n",
       " 'num_auto',\n",
       " 'rang',\n",
       " 'yil']"
      ]
     },
     "execution_count": 8,
     "metadata": {},
     "output_type": "execute_result"
    }
   ],
   "source": [
    "dir(auto1)\n",
    "# obyektning ham metodlarini va xususiyatlarini shunday qilib ko'rishni imkoniyati bor."
   ]
  },
  {
   "cell_type": "markdown",
   "id": "1b47aa5c",
   "metadata": {},
   "source": [
    "`Dunder metod`larining vazifasi qanday?\n",
    "\n",
    "Obyektaga qo'shimcha qulaylik qo'shish imkoniyatini beradi."
   ]
  },
  {
   "cell_type": "markdown",
   "id": "33396e97",
   "metadata": {},
   "source": [
    "Misol sifatida quyidagini ko'ramiz:"
   ]
  },
  {
   "cell_type": "code",
   "execution_count": null,
   "id": "1d93cd9d",
   "metadata": {},
   "outputs": [
    {
     "name": "stdout",
     "output_type": "stream",
     "text": [
      "<__main__.Auto object at 0x0000023B49F88CD0>\n"
     ]
    }
   ],
   "source": [
    "# 1\n",
    "print(auto1)"
   ]
  },
  {
   "cell_type": "code",
   "execution_count": 13,
   "id": "ca74adfb",
   "metadata": {},
   "outputs": [],
   "source": [
    "from uuid import uuid4\n",
    "\n",
    "class Auto():\n",
    "  num_auto = 0    # classga xos xususiyat\n",
    "  PI = 3.141519   # bu o'zgaruvchiga istalgan shu class bilan yaratilgan obyekt murojaat qilishi mumkin\n",
    "  \"\"\"Avtomobil classi\"\"\"\n",
    "  def __init__(self, model, rang, yil, narx, km=0):\n",
    "    self.model = model\n",
    "    self.rang = rang\n",
    "    self.yil = yil\n",
    "    self.narx = narx\n",
    "    self.__km = km       # Inkapsulatsiya qilingan xususiyat\n",
    "    self.__id = uuid4()  # Inkapsulatsiya qilingan xususiyat\n",
    "    Auto.num_auto += 1\n",
    "\n",
    "  def get_km(self):\n",
    "    return self.__km\n",
    "\n",
    "# Endi shu class orqali yaratilgan obyektga print orqali murojaat qilinsa shu ma'lumot chiqib keladi.\n",
    "  def __str__(self):\n",
    "    return f\"Auto: {self.model} {self.rang} {self.yil}\"\n",
    "\n",
    "auto1 = Auto('Onix LTZ', 'gray', 2024, 13500, 234)"
   ]
  },
  {
   "cell_type": "code",
   "execution_count": 14,
   "id": "3e5d2435",
   "metadata": {},
   "outputs": [
    {
     "name": "stdout",
     "output_type": "stream",
     "text": [
      "Auto: Onix LTZ gray 2024\n"
     ]
    }
   ],
   "source": [
    "# 2\n",
    "print(auto1)"
   ]
  },
  {
   "cell_type": "markdown",
   "id": "48050759",
   "metadata": {},
   "source": [
    "Yuqoridagi misoldan ko'rsak bo'ladiki `__str__` metodi orqali obyektga `print` funksiyasi orqali murojaat qilinganda undan qanday ma'lumot qaytishini boshqarishimiz mumkin ekan."
   ]
  },
  {
   "cell_type": "markdown",
   "id": "944533d5",
   "metadata": {},
   "source": [
    "`__str__` bilan `__repr__` bu metod ham bir xil kuchga ega odatda classda bittasidan (tavsiya qilinadi: `__repr__`) foydalanish yetarli bo'ladi."
   ]
  },
  {
   "cell_type": "code",
   "execution_count": 15,
   "id": "cf6d3911",
   "metadata": {},
   "outputs": [],
   "source": [
    "from uuid import uuid4\n",
    "\n",
    "class Auto():\n",
    "  num_auto = 0    # classga xos xususiyat\n",
    "  PI = 3.141519   # bu o'zgaruvchiga istalgan shu class bilan yaratilgan obyekt murojaat qilishi mumkin\n",
    "  \"\"\"Avtomobil classi\"\"\"\n",
    "  def __init__(self, model, rang, yil, narx, km=0):\n",
    "    self.model = model\n",
    "    self.rang = rang\n",
    "    self.yil = yil\n",
    "    self.narx = narx\n",
    "    self.__km = km       # Inkapsulatsiya qilingan xususiyat\n",
    "    self.__id = uuid4()  # Inkapsulatsiya qilingan xususiyat\n",
    "    Auto.num_auto += 1\n",
    "\n",
    "  def get_km(self):\n",
    "    return self.__km\n",
    "\n",
    "# Endi shu class orqali yaratilgan obyektga print orqali murojaat qilinsa shu ma'lumot chiqib keladi.\n",
    "  def __repr__(self):\n",
    "    return f\"Auto: {self.model} {self.rang} {self.yil}\"\n",
    "\n",
    "auto1 = Auto('Onix LTZ', 'gray', 2024, 13500, 234)"
   ]
  },
  {
   "cell_type": "code",
   "execution_count": 16,
   "id": "13bae703",
   "metadata": {},
   "outputs": [
    {
     "data": {
      "text/plain": [
       "'Auto: Onix LTZ gray 2024'"
      ]
     },
     "execution_count": 16,
     "metadata": {},
     "output_type": "execute_result"
    }
   ],
   "source": [
    "repr(auto1)"
   ]
  },
  {
   "cell_type": "markdown",
   "id": "c2c4c98a",
   "metadata": {},
   "source": [
    "`Taqqoslash metodlari`"
   ]
  },
  {
   "cell_type": "code",
   "execution_count": 21,
   "id": "a16d83a8",
   "metadata": {},
   "outputs": [
    {
     "name": "stdout",
     "output_type": "stream",
     "text": [
      "False\n",
      "True\n",
      "False\n",
      "False\n",
      "True\n"
     ]
    }
   ],
   "source": [
    "from uuid import uuid4\n",
    "\n",
    "class Auto():\n",
    "  num_auto = 0    # classga xos xususiyat\n",
    "  PI = 3.141519   # bu o'zgaruvchiga istalgan shu class bilan yaratilgan obyekt murojaat qilishi mumkin\n",
    "  \"\"\"Avtomobil classi\"\"\"\n",
    "  def __init__(self, model, rang, yil, narx, km=0):\n",
    "    self.model = model\n",
    "    self.rang = rang\n",
    "    self.yil = yil\n",
    "    self.narx = narx\n",
    "    self.__km = km       # Inkapsulatsiya qilingan xususiyat\n",
    "    self.__id = uuid4()  # Inkapsulatsiya qilingan xususiyat\n",
    "    Auto.num_auto += 1\n",
    "\n",
    "  def get_km(self):\n",
    "    return self.__km\n",
    "\n",
    "# Endi shu class orqali yaratilgan obyektga print orqali murojaat qilinsa shu ma'lumot chiqib keladi.\n",
    "  def __repr__(self):\n",
    "    return f\"Auto: {self.model} {self.rang} {self.yil}\"\n",
    "\n",
    "  def __eq__(self, value): # tenglikka tekshirish\n",
    "    return self.narx == value.narx\n",
    "\n",
    "  def __lt__(self, value): # katta yoki kichiklikka tekshirish\n",
    "    return self.narx < value.narx\n",
    "\n",
    "  def __le__(self, value): # katta yoki teng, kichik yoki tenglikka tekshirish\n",
    "    return self.narx <= value.narx\n",
    "\n",
    "auto1 = Auto('Onix LTZ', 'gray', 2024, 13500, 234)\n",
    "auto2 = Auto('Onix LTZ', 'gray', 2024, 12500, 234)\n",
    "\n",
    "print(auto1 == auto2)\n",
    "print(auto1 > auto2)\n",
    "print(auto1 < auto2)\n",
    "print(auto1 <= auto2)\n",
    "print(auto1 >= auto2)"
   ]
  },
  {
   "cell_type": "markdown",
   "id": "ef941cdf",
   "metadata": {},
   "source": [
    "`__len__` - `len()` funksiyasi orqali obyektga murojaat qilganda funksiya nima orqali obyekt o'lchamini o'lchashni kiritamiz. "
   ]
  },
  {
   "cell_type": "code",
   "execution_count": 27,
   "id": "ac79c0d2",
   "metadata": {},
   "outputs": [
    {
     "data": {
      "text/plain": [
       "3"
      ]
     },
     "execution_count": 27,
     "metadata": {},
     "output_type": "execute_result"
    }
   ],
   "source": [
    "from uuid import uuid4\n",
    "\n",
    "class Auto():\n",
    "  num_auto = 0    # classga xos xususiyat\n",
    "  PI = 3.141519   # bu o'zgaruvchiga istalgan shu class bilan yaratilgan obyekt murojaat qilishi mumkin\n",
    "  \"\"\"Avtomobil classi\"\"\"\n",
    "  def __init__(self, model, rang, yil, narx, km=0):\n",
    "    self.model = model\n",
    "    self.rang = rang\n",
    "    self.yil = yil\n",
    "    self.narx = narx\n",
    "    self.__km = km       # Inkapsulatsiya qilingan xususiyat\n",
    "    self.__id = uuid4()  # Inkapsulatsiya qilingan xususiyat\n",
    "    Auto.num_auto += 1\n",
    "\n",
    "  def get_km(self):\n",
    "    return self.__km\n",
    "\n",
    "  def __len__(self):\n",
    "    return\n",
    "\n",
    "auto1 = Auto('Onix LTZ', 'gray', 2024, 13500, 234)\n",
    "auto2 = Auto('Cobalt LTZ', 'red', 2024, 12500, 234)\n",
    "auto3 = Auto('BMW M3', 'dark', 2024, 12500, 234)\n",
    "\n",
    "\n",
    "class AutoSalon():\n",
    "  def __init__(self, name):\n",
    "    self.name = name\n",
    "    self.avtolar = []\n",
    "\n",
    "  def __repr__(self):\n",
    "    return f\"{self.name} avtosaloni\"\n",
    "\n",
    "  def add_auto(self, *auto):\n",
    "    for index in auto:\n",
    "      if isinstance(index, Auto):\n",
    "        self.avtolar.append(index)\n",
    "      else:\n",
    "        print('Auto obyektini kiriting!')\n",
    "\n",
    "  def __len__(self):\n",
    "    return len(self.avtolar)\n",
    "\n",
    "autosalon0 = AutoSalon('LUX')\n",
    "\n",
    "autosalon0.add_auto(auto1, auto2, auto3)\n",
    "\n",
    "len(autosalon0)"
   ]
  },
  {
   "cell_type": "markdown",
   "id": "8e2d511e",
   "metadata": {},
   "source": [
    "`OBYEKT ELEMENTLARIGA MUROJAT QILISH`"
   ]
  },
  {
   "cell_type": "code",
   "execution_count": null,
   "id": "90bb28fd",
   "metadata": {},
   "outputs": [],
   "source": []
  }
 ],
 "metadata": {
  "kernelspec": {
   "display_name": "Python 3",
   "language": "python",
   "name": "python3"
  },
  "language_info": {
   "codemirror_mode": {
    "name": "ipython",
    "version": 3
   },
   "file_extension": ".py",
   "mimetype": "text/x-python",
   "name": "python",
   "nbconvert_exporter": "python",
   "pygments_lexer": "ipython3",
   "version": "3.13.3"
  }
 },
 "nbformat": 4,
 "nbformat_minor": 5
}
