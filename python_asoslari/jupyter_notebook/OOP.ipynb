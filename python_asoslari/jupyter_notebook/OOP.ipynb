{
 "cells": [
  {
   "cell_type": "markdown",
   "id": "0817f1a7",
   "metadata": {},
   "source": [
    "`OOP` (Object-Oriented Programming) -  dasturlash uslubi bo‘lib, unda ma'lumotlar (obyektlar) va ularga taalluqli funksiyalar (metodlar) birgalikda ko‘rib chiqiladi. OOP — `\"Obyektga yo‘naltirilgan dasturlash\"` degani."
   ]
  },
  {
   "cell_type": "markdown",
   "id": "2125dd06",
   "metadata": {},
   "source": [
    "```\n",
    "OOP (Object-Oriented Programming)\n",
    "│\n",
    "├── Class\n",
    "│   ├── Attributes (xususiyatlar)\n",
    "│   └── Methods (metodlar / funksiyalar)\n",
    "│\n",
    "├── Object (Classdan yaratiladi)\n",
    "│\n",
    "├── 4 Asosiy prinsiplari\n",
    "│   ├── Encapsulation (Inkapsulyatsiya)\n",
    "│   ├── Abstraction (Abstraksiya)\n",
    "│   ├── Inheritance (Meros olish)\n",
    "│   └── Polymorphism (Polimorfizm)\n",
    "│\n",
    "├── Constructor (__init__)\n",
    "│\n",
    "└── self (obyektga murojaat qilish)\n",
    "```"
   ]
  },
  {
   "cell_type": "code",
   "execution_count": null,
   "id": "f41e4ee7",
   "metadata": {},
   "outputs": [
    {
     "name": "stdout",
     "output_type": "stream",
     "text": [
      "Nargiza\n",
      "Nargiza\n",
      "Rasulova\n",
      "29\n",
      "Talaba ma'lumotlari:\n",
      "Ismi: Nargiza\n",
      "Familiyasi: Rasulova\n",
      "Tug'ulgan yil: 1996\n"
     ]
    }
   ],
   "source": [
    "class Talaba: #class\n",
    "  def __init__(self, ism, familiya, tyil):\n",
    "    self.ism = ism #xususiyati\n",
    "    self.familiya = familiya\n",
    "    self.tyil = tyil\n",
    "\n",
    "  def get_name(self): #metod\n",
    "    return self.ism\n",
    "\n",
    "  def get_lastname(self):\n",
    "    return self.familiya\n",
    "\n",
    "  def get_age(self, yil):\n",
    "    return yil - self.tyil\n",
    "\n",
    "  def tanishtir(self):\n",
    "    return f\"Talaba ma'lumotlari:\\nIsmi: {self.ism}\\nFamiliyasi: {self.familiya}\\nTug'ulgan yil: {self.tyil}\"\n",
    "\n",
    "\n",
    "talaba1 = Talaba(\"Nargiza\", \"Rasulova\", 1996) #obyekt\n",
    "talaba2 = Talaba(\"Hayot\", \"Qarshiyeva\", 2005)\n",
    "talaba3 = Talaba(\"Farangiz\", \"Umurzoqova\", 1978)\n",
    "\n",
    "print(talaba1.ism) #obyektning bevosita xususiyatini olish\n",
    "\n",
    "print(talaba1.get_name()) #obyektning metod orqali xususiyatini olish\n",
    "print(talaba1.get_lastname())\n",
    "print(talaba1.get_age(2025))\n",
    "\n",
    "print(talaba1.tanishtir())"
   ]
  },
  {
   "cell_type": "markdown",
   "id": "71600701",
   "metadata": {},
   "source": [
    "Obyekt xususiyatlarini hammasini ham parametr sifatida kiritmasdan ularni class ichida standart shaklda ham berib ketish imkoniyati bor."
   ]
  },
  {
   "cell_type": "code",
   "execution_count": 4,
   "id": "48bc7f4e",
   "metadata": {},
   "outputs": [
    {
     "name": "stdout",
     "output_type": "stream",
     "text": [
      "Shokir\n",
      "1\n"
     ]
    },
    {
     "data": {
      "text/plain": [
       "'Shokir'"
      ]
     },
     "execution_count": 4,
     "metadata": {},
     "output_type": "execute_result"
    }
   ],
   "source": [
    "class Talaba: #class\n",
    "  def __init__(self, ism, familiya, tyil):\n",
    "    self.ism = ism #xususiyati\n",
    "    self.familiya = familiya\n",
    "    self.tyil = tyil\n",
    "    self.bosqich = 1\n",
    "\n",
    "  def get_name(self): #metod\n",
    "    return self.ism\n",
    "\n",
    "  def get_lastname(self):\n",
    "    return self.familiya\n",
    "\n",
    "  def get_age(self, yil):\n",
    "    return yil - self.tyil\n",
    "\n",
    "  def tanishtir(self):\n",
    "    return f\"Talaba ma'lumotlari:\\nIsmi: {self.ism}\\nFamiliyasi: {self.familiya}\\nTug'ulgan yil: {self.tyil}\"\n",
    "\n",
    "\n",
    "talaba1 = Talaba('Shokir', 'Sotvoldiyev', 1995)\n",
    "print(talaba1.ism)\n",
    "print(talaba1.bosqich)\n",
    "\n",
    "talaba1.get_name()"
   ]
  },
  {
   "cell_type": "markdown",
   "id": "d9ae2fe0",
   "metadata": {},
   "source": [
    "Biz obyektning biron xusuiyatini bilmoqchi bo'lsak, unga quyidagicha mutojaat qilamiz:\n",
    "\n",
    "`obyekt_nomi.xususiyati`\n",
    "\n",
    "Masalan: `talaba1.ism`\n",
    "\n",
    "Odatda bunday qilish tavsiya qilinmaydi, har bir xususiyat uchun metod yaratish va metod bilan chaqirish tavsiya etiladi:\n",
    "\n",
    "`def get_name(self):` #metod\n",
    "\n",
    "    return self.ism"
   ]
  },
  {
   "cell_type": "markdown",
   "id": "b9d1015c",
   "metadata": {},
   "source": [
    "Endi esa obyekning xusuiyatini o'zgartirish yo'llaerini ko'rib chiqamiz:"
   ]
  },
  {
   "cell_type": "code",
   "execution_count": 7,
   "id": "b307809c",
   "metadata": {},
   "outputs": [
    {
     "name": "stdout",
     "output_type": "stream",
     "text": [
      "2\n"
     ]
    }
   ],
   "source": [
    "talaba1.bosqich = 2\n",
    "# Bunday qilib o'zgartirish juda sodda usul hisoblanadi va tavsiya etilmaydi\n",
    "\n",
    "print(talaba1.bosqich)"
   ]
  },
  {
   "cell_type": "markdown",
   "id": "a82592c0",
   "metadata": {},
   "source": [
    "Obyektning xususiyatini o'zgartirish uchun ham metod yoziladi:"
   ]
  },
  {
   "cell_type": "code",
   "execution_count": 26,
   "id": "4984403f",
   "metadata": {},
   "outputs": [
    {
     "data": {
      "text/plain": [
       "\"Nastarin Alimjonova, 2004-yil tug'ulgan, 3-bosqich talabasi.\""
      ]
     },
     "execution_count": 26,
     "metadata": {},
     "output_type": "execute_result"
    }
   ],
   "source": [
    "class Talaba: #class\n",
    "  def __init__(self, ism, familiya, tyil):\n",
    "    self.ism = ism #xususiyati\n",
    "    self.familiya = familiya\n",
    "    self.tyil = tyil\n",
    "    self.bosqich = 1\n",
    "\n",
    "  def get_name(self): #metod\n",
    "    return self.ism\n",
    "\n",
    "  def get_lastname(self):\n",
    "    return self.familiya\n",
    "\n",
    "  def get_age(self, yil):\n",
    "    return yil - self.tyil\n",
    "\n",
    "  def get_grade_level(self):\n",
    "    return self.bosqich\n",
    "\n",
    "  def set_grade_level(self, son):\n",
    "    self.bosqich = son\n",
    "\n",
    "  def tanishtir(self):\n",
    "    return f\"{self.ism} {self.familiya}, {self.tyil}-yil tug'ulgan, {self.bosqich}-bosqich talabasi.\"\n",
    "\n",
    "\n",
    "talaba1 = Talaba('Nastarin', 'Alimjonova', '2004')\n",
    "\n",
    "talaba1.set_grade_level(3)\n",
    "talaba1.tanishtir()"
   ]
  }
 ],
 "metadata": {
  "kernelspec": {
   "display_name": "Python 3",
   "language": "python",
   "name": "python3"
  },
  "language_info": {
   "codemirror_mode": {
    "name": "ipython",
    "version": 3
   },
   "file_extension": ".py",
   "mimetype": "text/x-python",
   "name": "python",
   "nbconvert_exporter": "python",
   "pygments_lexer": "ipython3",
   "version": "3.13.3"
  }
 },
 "nbformat": 4,
 "nbformat_minor": 5
}
