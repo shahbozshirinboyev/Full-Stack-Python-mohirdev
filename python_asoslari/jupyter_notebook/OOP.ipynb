{
 "cells": [
  {
   "cell_type": "markdown",
   "id": "0817f1a7",
   "metadata": {},
   "source": [
    "`OOP` (Object-Oriented Programming) -  dasturlash uslubi bo‘lib, unda ma'lumotlar (obyektlar) va ularga taalluqli funksiyalar (metodlar) birgalikda ko‘rib chiqiladi. OOP — `\"Obyektga yo‘naltirilgan dasturlash\"` degani."
   ]
  },
  {
   "cell_type": "markdown",
   "id": "2125dd06",
   "metadata": {},
   "source": [
    "```\n",
    "OOP (Object-Oriented Programming)\n",
    "│\n",
    "├── Class\n",
    "│   ├── Attributes (xususiyatlar)\n",
    "│   └── Methods (metodlar / funksiyalar)\n",
    "│\n",
    "├── Object (Classdan yaratiladi)\n",
    "│\n",
    "├── 4 Asosiy prinsiplari\n",
    "│   ├── Encapsulation (Inkapsulyatsiya)\n",
    "│   ├── Abstraction (Abstraksiya)\n",
    "│   ├── Inheritance (Meros olish)\n",
    "│   └── Polymorphism (Polimorfizm)\n",
    "│\n",
    "├── Constructor (__init__)\n",
    "│\n",
    "└── self (obyektga murojaat qilish)\n",
    "```"
   ]
  },
  {
   "cell_type": "code",
   "execution_count": null,
   "id": "f41e4ee7",
   "metadata": {},
   "outputs": [
    {
     "name": "stdout",
     "output_type": "stream",
     "text": [
      "Nargiza\n",
      "Nargiza\n",
      "Rasulova\n",
      "29\n",
      "Talaba ma'lumotlari:\n",
      "Ismi: Nargiza\n",
      "Familiyasi: Rasulova\n",
      "Tug'ulgan yil: 1996\n"
     ]
    }
   ],
   "source": [
    "class Talaba: #class\n",
    "  def __init__(self, ism, familiya, tyil):\n",
    "    self.ism = ism #xususiyati\n",
    "    self.familiya = familiya\n",
    "    self.tyil = tyil\n",
    "\n",
    "  def get_name(self): #metod\n",
    "    return self.ism\n",
    "\n",
    "  def get_lastname(self):\n",
    "    return self.familiya\n",
    "\n",
    "  def get_age(self, yil):\n",
    "    return yil - self.tyil\n",
    "\n",
    "  def tanishtir(self):\n",
    "    return f\"Talaba ma'lumotlari:\\nIsmi: {self.ism}\\nFamiliyasi: {self.familiya}\\nTug'ulgan yil: {self.tyil}\"\n",
    "\n",
    "\n",
    "talaba1 = Talaba(\"Nargiza\", \"Rasulova\", 1996) #obyekt\n",
    "talaba2 = Talaba(\"Hayot\", \"Qarshiyeva\", 2005)\n",
    "talaba3 = Talaba(\"Farangiz\", \"Umurzoqova\", 1978)\n",
    "\n",
    "print(talaba1.ism) #obyektning bevosita xususiyatini olish\n",
    "\n",
    "print(talaba1.get_name()) #obyektning metod orqali xususiyatini olish\n",
    "print(talaba1.get_lastname())\n",
    "print(talaba1.get_age(2025))\n",
    "\n",
    "print(talaba1.tanishtir())"
   ]
  },
  {
   "cell_type": "markdown",
   "id": "71600701",
   "metadata": {},
   "source": [
    "Obyekt xususiyatlarini hammasini ham parametr sifatida kiritmasdan ularni class ichida standart shaklda ham berib ketish imkoniyati bor."
   ]
  },
  {
   "cell_type": "code",
   "execution_count": 4,
   "id": "48bc7f4e",
   "metadata": {},
   "outputs": [
    {
     "name": "stdout",
     "output_type": "stream",
     "text": [
      "Shokir\n",
      "1\n"
     ]
    },
    {
     "data": {
      "text/plain": [
       "'Shokir'"
      ]
     },
     "execution_count": 4,
     "metadata": {},
     "output_type": "execute_result"
    }
   ],
   "source": [
    "class Talaba: #class\n",
    "  def __init__(self, ism, familiya, tyil):\n",
    "    self.ism = ism #xususiyati\n",
    "    self.familiya = familiya\n",
    "    self.tyil = tyil\n",
    "    self.bosqich = 1\n",
    "\n",
    "  def get_name(self): #metod\n",
    "    return self.ism\n",
    "\n",
    "  def get_lastname(self):\n",
    "    return self.familiya\n",
    "\n",
    "  def get_age(self, yil):\n",
    "    return yil - self.tyil\n",
    "\n",
    "  def tanishtir(self):\n",
    "    return f\"Talaba ma'lumotlari:\\nIsmi: {self.ism}\\nFamiliyasi: {self.familiya}\\nTug'ulgan yil: {self.tyil}\"\n",
    "\n",
    "\n",
    "talaba1 = Talaba('Shokir', 'Sotvoldiyev', 1995)\n",
    "print(talaba1.ism)\n",
    "print(talaba1.bosqich)\n",
    "\n",
    "talaba1.get_name()"
   ]
  },
  {
   "cell_type": "markdown",
   "id": "d9ae2fe0",
   "metadata": {},
   "source": [
    "Biz obyektning biron xusuiyatini bilmoqchi bo'lsak, unga quyidagicha mutojaat qilamiz:\n",
    "\n",
    "`obyekt_nomi.xususiyati`\n",
    "\n",
    "Masalan: `talaba1.ism`\n",
    "\n",
    "Odatda bunday qilish tavsiya qilinmaydi, har bir xususiyat uchun metod yaratish va metod bilan chaqirish tavsiya etiladi:\n",
    "\n",
    "`def get_name(self):` #metod\n",
    "\n",
    "    return self.ism"
   ]
  },
  {
   "cell_type": "markdown",
   "id": "b9d1015c",
   "metadata": {},
   "source": [
    "Endi esa obyekning xusuiyatini o'zgartirish yo'llaerini ko'rib chiqamiz:"
   ]
  },
  {
   "cell_type": "code",
   "execution_count": 7,
   "id": "b307809c",
   "metadata": {},
   "outputs": [
    {
     "name": "stdout",
     "output_type": "stream",
     "text": [
      "2\n"
     ]
    }
   ],
   "source": [
    "talaba1.bosqich = 2\n",
    "# Bunday qilib o'zgartirish juda sodda usul hisoblanadi va tavsiya etilmaydi\n",
    "\n",
    "print(talaba1.bosqich)"
   ]
  },
  {
   "cell_type": "markdown",
   "id": "a82592c0",
   "metadata": {},
   "source": [
    "Obyektning xususiyatini o'zgartirish uchun ham metod yoziladi:"
   ]
  },
  {
   "cell_type": "code",
   "execution_count": 26,
   "id": "4984403f",
   "metadata": {},
   "outputs": [
    {
     "data": {
      "text/plain": [
       "\"Nastarin Alimjonova, 2004-yil tug'ulgan, 3-bosqich talabasi.\""
      ]
     },
     "execution_count": 26,
     "metadata": {},
     "output_type": "execute_result"
    }
   ],
   "source": [
    "class Talaba: #class\n",
    "  def __init__(self, ism, familiya, tyil):\n",
    "    self.ism = ism #xususiyati\n",
    "    self.familiya = familiya\n",
    "    self.tyil = tyil\n",
    "    self.bosqich = 1\n",
    "\n",
    "  def get_name(self): #metod\n",
    "    return self.ism\n",
    "\n",
    "  def get_lastname(self):\n",
    "    return self.familiya\n",
    "\n",
    "  def get_age(self, yil):\n",
    "    return yil - self.tyil\n",
    "\n",
    "  def get_grade_level(self):\n",
    "    return self.bosqich\n",
    "\n",
    "  def set_grade_level(self, son):\n",
    "    self.bosqich = son\n",
    "\n",
    "  def tanishtir(self):\n",
    "    return f\"{self.ism} {self.familiya}, {self.tyil}-yil tug'ulgan, {self.bosqich}-bosqich talabasi.\"\n",
    "\n",
    "\n",
    "talaba1 = Talaba('Nastarin', 'Alimjonova', '2004')\n",
    "\n",
    "talaba1.set_grade_level(3)\n",
    "talaba1.tanishtir()"
   ]
  },
  {
   "cell_type": "markdown",
   "id": "a12d3645",
   "metadata": {},
   "source": [
    "`OBYEKTLAR O'RTASIDA MUNOSABAT`"
   ]
  },
  {
   "cell_type": "markdown",
   "id": "5df2f3ef",
   "metadata": {},
   "source": [
    "> `OOP` ning afzalligi, turli obyektlar o'rtasidagi o'zaro munosobatlarni oson yo'lga qo'yish mumkinligida. Buni misolida ko'rish uchun yangi `Fan` degan class yaratamiz va fanimizga talabalarni qo'shish imkoniyatini ham yaratamiz. (add_student() metodi)"
   ]
  },
  {
   "cell_type": "code",
   "execution_count": 37,
   "id": "ac693034",
   "metadata": {},
   "outputs": [
    {
     "name": "stdout",
     "output_type": "stream",
     "text": [
      "3\n"
     ]
    },
    {
     "data": {
      "text/plain": [
       "['Alijon Valiyev. 1-bosqich talabasi ',\n",
       " 'Hasan Alimov. 1-bosqich talabasi ',\n",
       " 'Akrom Boriyev. 1-bosqich talabasi ']"
      ]
     },
     "execution_count": 37,
     "metadata": {},
     "output_type": "execute_result"
    }
   ],
   "source": [
    "class Talaba:\n",
    "    \"\"\"Talaba nomli klass yaratamiz\"\"\"\n",
    "    def __init__(self,ism,familiya,tyil):\n",
    "        \"\"\"Talabaning xususiyatlari\"\"\"\n",
    "        self.ism = ism\n",
    "        self.familiya = familiya\n",
    "        self.tyil = tyil\n",
    "        self.bosqich = 1\n",
    "\n",
    "    def get_info(self):\n",
    "        \"\"\"Talaba haqida ma'lumot\"\"\"\n",
    "        return f\"{self.ism} {self.familiya}. {self.bosqich}-bosqich talabasi \"\n",
    "\n",
    "    def set_bosqich(self,bosqich):\n",
    "        \"\"\"Talabaning kursini yangilovchi metod\"\"\"\n",
    "        self.bosqich = bosqich\n",
    "\n",
    "    def update_bosqich(self):\n",
    "        \"\"\"Talabanining bosqichini 1taga ko'paytirish\"\"\"\n",
    "        self.bosqich += 1\n",
    "\n",
    "class Fan():\n",
    "    def __init__(self,nomi):\n",
    "        self.nomi = nomi\n",
    "        self.talabalar_soni = 0\n",
    "        self.talabalar = []\n",
    "\n",
    "    def add_student(self,talaba):\n",
    "        \"\"\"Fanga talabalar qo'shish\"\"\"\n",
    "        self.talabalar.append(talaba)\n",
    "        self.talabalar_soni += 1\n",
    "\n",
    "    def get_students(self):\n",
    "        return [talaba.get_info() for talaba in self.talabalar]\n",
    "\n",
    "matematika = Fan(\"Oliy Matematika\")\n",
    "talaba1 = Talaba(\"Alijon\",\"Valiyev\",2000)\n",
    "talaba2 = Talaba(\"Hasan\",\"Alimov\",2001)\n",
    "talaba3 = Talaba(\"Akrom\",\"Boriyev\",2001)\n",
    "\n",
    "matematika.add_student(talaba1)\n",
    "matematika.add_student(talaba2)\n",
    "matematika.add_student(talaba3)\n",
    "\n",
    "print(matematika.talabalar_soni)\n",
    "matematika.get_students()"
   ]
  },
  {
   "cell_type": "markdown",
   "id": "28dd35f5",
   "metadata": {},
   "source": [
    "Bizda bor obyektlarni yoki loyihamizda foydalanayotgan obyeeklarni metodlarni bilish uchun quyidagicha yo'l tutamiz:\n",
    "\n",
    "`dir([object])`"
   ]
  },
  {
   "cell_type": "code",
   "execution_count": 38,
   "id": "c4d13853",
   "metadata": {},
   "outputs": [
    {
     "data": {
      "text/plain": [
       "['__class__',\n",
       " '__delattr__',\n",
       " '__dict__',\n",
       " '__dir__',\n",
       " '__doc__',\n",
       " '__eq__',\n",
       " '__firstlineno__',\n",
       " '__format__',\n",
       " '__ge__',\n",
       " '__getattribute__',\n",
       " '__getstate__',\n",
       " '__gt__',\n",
       " '__hash__',\n",
       " '__init__',\n",
       " '__init_subclass__',\n",
       " '__le__',\n",
       " '__lt__',\n",
       " '__module__',\n",
       " '__ne__',\n",
       " '__new__',\n",
       " '__reduce__',\n",
       " '__reduce_ex__',\n",
       " '__repr__',\n",
       " '__setattr__',\n",
       " '__sizeof__',\n",
       " '__static_attributes__',\n",
       " '__str__',\n",
       " '__subclasshook__',\n",
       " '__weakref__',\n",
       " 'get_info',\n",
       " 'set_bosqich',\n",
       " 'update_bosqich']"
      ]
     },
     "execution_count": 38,
     "metadata": {},
     "output_type": "execute_result"
    }
   ],
   "source": [
    "dir(Talaba)"
   ]
  },
  {
   "cell_type": "markdown",
   "id": "f5ec3d93",
   "metadata": {},
   "source": [
    "`Dunder metodlar` - obyektning ikkita pastki chiziqlar (`__`) bilan boshlgan metodlar turi."
   ]
  },
  {
   "cell_type": "markdown",
   "id": "4b3590f1",
   "metadata": {},
   "source": [
    "`dunder metod`larini olib tashlab yaratilgan yoki (.) nuqta bilan murojaat qilsa bo'ladigan metodlar ro'yxatini olish uchun funksiya yozamiz:"
   ]
  },
  {
   "cell_type": "code",
   "execution_count": 46,
   "id": "18e684b0",
   "metadata": {},
   "outputs": [
    {
     "name": "stdout",
     "output_type": "stream",
     "text": [
      "['get_info', 'set_bosqich', 'update_bosqich']\n"
     ]
    }
   ],
   "source": [
    "def see_methods(class_nomi):\n",
    "    return [method for method in dir(class_nomi) if method.startswith('__') is False]\n",
    "\n",
    "print(see_methods(Talaba))"
   ]
  },
  {
   "cell_type": "markdown",
   "id": "fad586b9",
   "metadata": {},
   "source": [
    "`__dict__` - obyektga tegishli bo'lgan xusuiyatlarni va ularni qiymatlarini lug'at ko'rinishida qaytaruvchi metod."
   ]
  },
  {
   "cell_type": "code",
   "execution_count": 47,
   "id": "ad703a37",
   "metadata": {},
   "outputs": [
    {
     "data": {
      "text/plain": [
       "{'ism': 'Alijon', 'familiya': 'Valiyev', 'tyil': 2000, 'bosqich': 1}"
      ]
     },
     "execution_count": 47,
     "metadata": {},
     "output_type": "execute_result"
    }
   ],
   "source": [
    "talaba1.__dict__"
   ]
  },
  {
   "cell_type": "markdown",
   "id": "0e656660",
   "metadata": {},
   "source": [
    "Agar faqat xusuiyatlarni nomi kerak bo'lsa quyidagicha qilamiz:"
   ]
  },
  {
   "cell_type": "code",
   "execution_count": 49,
   "id": "fb7a30a6",
   "metadata": {},
   "outputs": [
    {
     "data": {
      "text/plain": [
       "dict_keys(['ism', 'familiya', 'tyil', 'bosqich'])"
      ]
     },
     "execution_count": 49,
     "metadata": {},
     "output_type": "execute_result"
    }
   ],
   "source": [
    "talaba1.__dict__.keys()"
   ]
  },
  {
   "cell_type": "markdown",
   "id": "34d6950a",
   "metadata": {},
   "source": [
    "`see_methods` - funksiyasiga faqatgina `class` ni emas `object` ni ham berishim mumkin. Bunda bizga qaytadigan javob metodlar va xususiyatlar ro'yxati bo'ladi."
   ]
  },
  {
   "cell_type": "code",
   "execution_count": 51,
   "id": "a5ed99f9",
   "metadata": {},
   "outputs": [
    {
     "name": "stdout",
     "output_type": "stream",
     "text": [
      "['bosqich', 'familiya', 'get_info', 'ism', 'set_bosqich', 'tyil', 'update_bosqich']\n"
     ]
    }
   ],
   "source": [
    "print(see_methods(talaba1))"
   ]
  },
  {
   "cell_type": "markdown",
   "id": "36f22edb",
   "metadata": {},
   "source": [
    "`VORISLIK va POLIMORFIZM`\n",
    "\n",
    "`Vorislik`  - bir classdan boshqa yangni class yaratish.\n",
    "\n",
    "`Polimorfizm` - yagni yaratilgan class ichida super classdan meros bo'lib qolgan biror bir metodni o'zgartirish. "
   ]
  },
  {
   "cell_type": "code",
   "execution_count": null,
   "id": "d29051d0",
   "metadata": {},
   "outputs": [],
   "source": [
    "class Shaxs:\n",
    "  \"\"\"Shaxs haqida ma'lumot\"\"\"\n",
    "  def __init__(self, ism, familiya, passport, tyil):\n",
    "    self.ism = ism\n",
    "    self.familiya = familiya\n",
    "    self.passport = passport\n",
    "    self.tyil = tyil\n",
    "\n",
    "  def get_age(self, yil):\n",
    "    return yil - self.yil\n",
    "\n",
    "  def get_info(self):\n",
    "    \"\"\"Shaxs haqida ma'lumot\"\"\"\n",
    "    info = f\"{self.ism} {self.familiya}. \"\n",
    "    info += f\"{self.passport}, {self.tyil}-yilda tug'ulgan.\"\n",
    "    return info"
   ]
  }
 ],
 "metadata": {
  "kernelspec": {
   "display_name": "Python 3",
   "language": "python",
   "name": "python3"
  },
  "language_info": {
   "codemirror_mode": {
    "name": "ipython",
    "version": 3
   },
   "file_extension": ".py",
   "mimetype": "text/x-python",
   "name": "python",
   "nbconvert_exporter": "python",
   "pygments_lexer": "ipython3",
   "version": "3.13.3"
  }
 },
 "nbformat": 4,
 "nbformat_minor": 5
}
