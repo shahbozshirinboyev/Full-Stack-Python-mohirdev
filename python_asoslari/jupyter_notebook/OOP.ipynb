{
 "cells": [
  {
   "cell_type": "markdown",
   "id": "0817f1a7",
   "metadata": {},
   "source": [
    "`OOP` (Object-Oriented Programming) -  dasturlash uslubi bo‘lib, unda ma'lumotlar (obyektlar) va ularga taalluqli funksiyalar (metodlar) birgalikda ko‘rib chiqiladi. OOP — `\"Obyektga yo‘naltirilgan dasturlash\"` degani."
   ]
  },
  {
   "cell_type": "markdown",
   "id": "2125dd06",
   "metadata": {},
   "source": [
    "```\n",
    "OOP (Object-Oriented Programming)\n",
    "│\n",
    "├── Class\n",
    "│   ├── Attributes (xususiyatlar)\n",
    "│   └── Methods (metodlar / funksiyalar)\n",
    "│\n",
    "├── Object (Classdan yaratiladi)\n",
    "│\n",
    "├── 4 Asosiy prinsiplari\n",
    "│   ├── Encapsulation (Inkapsulyatsiya)\n",
    "│   ├── Abstraction (Abstraksiya)\n",
    "│   ├── Inheritance (Meros olish)\n",
    "│   └── Polymorphism (Polimorfizm)\n",
    "│\n",
    "├── Constructor (__init__)\n",
    "│\n",
    "└── self (obyektga murojaat qilish)\n",
    "```"
   ]
  },
  {
   "cell_type": "code",
   "execution_count": null,
   "id": "f41e4ee7",
   "metadata": {},
   "outputs": [
    {
     "name": "stdout",
     "output_type": "stream",
     "text": [
      "Nargiza\n",
      "Nargiza\n",
      "Rasulova\n",
      "29\n",
      "Talaba ma'lumotlari:\n",
      "Ismi: Nargiza\n",
      "Familiyasi: Rasulova\n",
      "Tug'ulgan yil: 1996\n"
     ]
    }
   ],
   "source": [
    "class Talaba: #class\n",
    "  def __init__(self, ism, familiya, tyil):\n",
    "    self.ism = ism #xususiyati\n",
    "    self.familiya = familiya\n",
    "    self.tyil = tyil\n",
    "\n",
    "  def get_name(self): #metod\n",
    "    return self.ism\n",
    "\n",
    "  def get_lastname(self):\n",
    "    return self.familiya\n",
    "\n",
    "  def get_age(self, yil):\n",
    "    return yil - self.tyil\n",
    "\n",
    "  def tanishtir(self):\n",
    "    return f\"Talaba ma'lumotlari:\\nIsmi: {self.ism}\\nFamiliyasi: {self.familiya}\\nTug'ulgan yil: {self.tyil}\"\n",
    "\n",
    "\n",
    "talaba1 = Talaba(\"Nargiza\", \"Rasulova\", 1996) #obyekt\n",
    "talaba2 = Talaba(\"Hayot\", \"Qarshiyeva\", 2005)\n",
    "talaba3 = Talaba(\"Farangiz\", \"Umurzoqova\", 1978)\n",
    "\n",
    "print(talaba1.ism) #obyektning bevosita xususiyatini olish\n",
    "\n",
    "print(talaba1.get_name()) #obyektning metod orqali xususiyatini olish\n",
    "print(talaba1.get_lastname())\n",
    "print(talaba1.get_age(2025))\n",
    "\n",
    "print(talaba1.tanishtir())"
   ]
  }
 ],
 "metadata": {
  "kernelspec": {
   "display_name": "Python 3",
   "language": "python",
   "name": "python3"
  },
  "language_info": {
   "codemirror_mode": {
    "name": "ipython",
    "version": 3
   },
   "file_extension": ".py",
   "mimetype": "text/x-python",
   "name": "python",
   "nbconvert_exporter": "python",
   "pygments_lexer": "ipython3",
   "version": "3.13.3"
  }
 },
 "nbformat": 4,
 "nbformat_minor": 5
}
