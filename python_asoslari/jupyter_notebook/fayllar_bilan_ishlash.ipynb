{
 "cells": [
  {
   "cell_type": "markdown",
   "id": "15c3f4f7",
   "metadata": {},
   "source": [
    "`Fayllar bilan ishlash.` `Pickle`"
   ]
  },
  {
   "cell_type": "code",
   "execution_count": 3,
   "id": "5fe17031",
   "metadata": {},
   "outputs": [
    {
     "name": "stdout",
     "output_type": "stream",
     "text": [
      "3.141592653589793238462643383279\n"
     ]
    }
   ],
   "source": [
    "# faylni ochish\n",
    "file = open('pi.txt') # faylni ochiq qoldirish mumkin emas, faqat shu qatordan foydalanilmaydi.\n",
    "PI = file.read()\n",
    "print(PI)\n",
    "file.close()"
   ]
  },
  {
   "cell_type": "markdown",
   "id": "ccc4e7d1",
   "metadata": {},
   "source": [
    "Odatda fayllarni ochishda tavsiya qilinadigan usuli bu `with` operatori yordamida. Chunki bu operator o'zi avtomat fileni `close()` qiladi."
   ]
  },
  {
   "cell_type": "code",
   "execution_count": 6,
   "id": "d8d47c49",
   "metadata": {},
   "outputs": [
    {
     "name": "stdout",
     "output_type": "stream",
     "text": [
      "3.1415926535\n",
      "8979323846\n",
      "2643383279\n"
     ]
    }
   ],
   "source": [
    "with open('pi.txt') as file:\n",
    "  pi = file.read()\n",
    "  # with funksiyasidagi barcha amallar bajarilib bo'lganda keyin file yopiladi.\n",
    "\n",
    "\n",
    "print(pi)"
   ]
  },
  {
   "cell_type": "code",
   "execution_count": 5,
   "id": "3bd42f32",
   "metadata": {},
   "outputs": [
    {
     "data": {
      "text/plain": [
       "str"
      ]
     },
     "execution_count": 5,
     "metadata": {},
     "output_type": "execute_result"
    }
   ],
   "source": [
    "type(pi)"
   ]
  },
  {
   "cell_type": "markdown",
   "id": "aaba857f",
   "metadata": {},
   "source": [
    "Yuqoridan `pi`ni turini ko'rdik va bu `str` ekan. `open()` yordamida fayldan qiymatlarni o'qiganimizda u bizga string qaytarar ekan."
   ]
  },
  {
   "cell_type": "code",
   "execution_count": null,
   "id": "82848406",
   "metadata": {},
   "outputs": [
    {
     "name": "stdout",
     "output_type": "stream",
     "text": [
      "3.141592653589793\n"
     ]
    }
   ],
   "source": [
    "pi = pi.rstrip() # qatorlar oxiridagi bo'sh joyni olib tashladik.\n",
    "pi = pi.replace('\\n', '') # bir belgini boshqasi bilan almashtirish\n",
    "pi = float(pi)\n",
    "print(pi)"
   ]
  },
  {
   "cell_type": "code",
   "execution_count": 8,
   "id": "b71ba2eb",
   "metadata": {},
   "outputs": [
    {
     "data": {
      "text/plain": [
       "float"
      ]
     },
     "execution_count": 8,
     "metadata": {},
     "output_type": "execute_result"
    }
   ],
   "source": [
    "type(pi)"
   ]
  },
  {
   "cell_type": "markdown",
   "id": "2774c7e9",
   "metadata": {},
   "source": [
    "`FAYLNI QATORMA-QATOR OʻQISH`"
   ]
  },
  {
   "cell_type": "markdown",
   "id": "a5c358bc",
   "metadata": {},
   "source": [
    "Ba'zida faylni butunligicha bitta o'zgaruvchiga olib o'qish emas, qatorma-qator o'qishga to'g'ri kelishi mumkin."
   ]
  },
  {
   "cell_type": "code",
   "execution_count": null,
   "id": "1b56262f",
   "metadata": {},
   "outputs": [
    {
     "name": "stdout",
     "output_type": "stream",
     "text": [
      "alijon shamsiyev\n",
      "\n",
      "husan olimov\n",
      "\n",
      "nargiza kenjaboyeva\n",
      "\n",
      "iroda keldiyorova\n"
     ]
    }
   ],
   "source": [
    "filename = 'data/talabalar.txt' # dastur yoziladigan papka\n",
    "with open(filename) as file:\n",
    "  for line in file:\n",
    "    print(line)"
   ]
  },
  {
   "cell_type": "code",
   "execution_count": 10,
   "id": "31cdb193",
   "metadata": {},
   "outputs": [
    {
     "name": "stdout",
     "output_type": "stream",
     "text": [
      "['alijon shamsiyev\\n', 'husan olimov\\n', 'nargiza kenjaboyeva\\n', 'iroda keldiyorova']\n"
     ]
    }
   ],
   "source": [
    "with open(filename) as file:\n",
    "  talabalar = file.readlines()\n",
    "\n",
    "print(talabalar)"
   ]
  },
  {
   "cell_type": "code",
   "execution_count": 12,
   "id": "4195e6c7",
   "metadata": {},
   "outputs": [
    {
     "data": {
      "text/plain": [
       "4"
      ]
     },
     "execution_count": 12,
     "metadata": {},
     "output_type": "execute_result"
    }
   ],
   "source": [
    "len(talabalar)"
   ]
  },
  {
   "cell_type": "markdown",
   "id": "0f8dc515",
   "metadata": {},
   "source": [
    "Qator oxiridagi yangi qatorni olib tashlashi uchun."
   ]
  },
  {
   "cell_type": "code",
   "execution_count": 16,
   "id": "58104a1d",
   "metadata": {},
   "outputs": [
    {
     "name": "stdout",
     "output_type": "stream",
     "text": [
      "['alijon shamsiyev', 'husan olimov', 'nargiza kenjaboyeva', 'iroda keldiyorova']\n"
     ]
    }
   ],
   "source": [
    "talabalar = [talaba.rstrip() for talaba in talabalar]\n",
    "print(talabalar)"
   ]
  },
  {
   "cell_type": "markdown",
   "id": "aeb2086d",
   "metadata": {},
   "source": [
    "`FAYLGA YOZISH`"
   ]
  },
  {
   "cell_type": "code",
   "execution_count": null,
   "id": "3bfca678",
   "metadata": {},
   "outputs": [],
   "source": []
  }
 ],
 "metadata": {
  "kernelspec": {
   "display_name": "Python 3",
   "language": "python",
   "name": "python3"
  },
  "language_info": {
   "codemirror_mode": {
    "name": "ipython",
    "version": 3
   },
   "file_extension": ".py",
   "mimetype": "text/x-python",
   "name": "python",
   "nbconvert_exporter": "python",
   "pygments_lexer": "ipython3",
   "version": "3.13.3"
  }
 },
 "nbformat": 4,
 "nbformat_minor": 5
}
