{
 "cells": [
  {
   "cell_type": "markdown",
   "id": "bfa2a3d1",
   "metadata": {},
   "source": [
    "`Python tashqi kutubxonasi.` \n",
    "> `PyPi.org`"
   ]
  },
  {
   "cell_type": "markdown",
   "id": "90bae21f",
   "metadata": {},
   "source": [
    "> `wikipedia` - wikipediadan ma'lumot olish, qidirish va boshqa shunga o'xshash maqsadlarda. \n",
    "\n",
    "> `googletrans` [alternative: deep-translator] - tarjima maqsadida.\n",
    "\n",
    "> `requests` - bu modul internetdagi sahifalarni chaqirib olish uchun ishlatiladi. Odatda API lar bilan ishlashda mu moduldan foydalaniladi.\n",
    "\n",
    "> "
   ]
  }
 ],
 "metadata": {
  "kernelspec": {
   "display_name": "Python 3",
   "language": "python",
   "name": "python3"
  },
  "language_info": {
   "codemirror_mode": {
    "name": "ipython",
    "version": 3
   },
   "file_extension": ".py",
   "mimetype": "text/x-python",
   "name": "python",
   "nbconvert_exporter": "python",
   "pygments_lexer": "ipython3",
   "version": "3.13.3"
  }
 },
 "nbformat": 4,
 "nbformat_minor": 5
}
