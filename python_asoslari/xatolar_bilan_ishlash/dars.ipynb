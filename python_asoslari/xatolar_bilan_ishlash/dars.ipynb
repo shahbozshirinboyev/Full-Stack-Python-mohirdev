{
 "cells": [
  {
   "cell_type": "markdown",
   "id": "e5b561b4",
   "metadata": {},
   "source": [
    "`XATOLAR BILAN ISHLASH`"
   ]
  },
  {
   "cell_type": "markdown",
   "id": "678a3596",
   "metadata": {},
   "source": [
    "> Kodni ishlatish jarayonida ba'zi xatoliklar kelib chiqadi. Masalan pastdagi koddagi xatolikni ko'rishimiz mumkin:"
   ]
  },
  {
   "cell_type": "code",
   "execution_count": 3,
   "id": "3c3e3a1e",
   "metadata": {},
   "outputs": [
    {
     "ename": "ValueError",
     "evalue": "invalid literal for int() with base 10: '26.5'",
     "output_type": "error",
     "traceback": [
      "\u001b[31m---------------------------------------------------------------------------\u001b[39m",
      "\u001b[31mValueError\u001b[39m                                Traceback (most recent call last)",
      "\u001b[36mCell\u001b[39m\u001b[36m \u001b[39m\u001b[32mIn[3]\u001b[39m\u001b[32m, line 2\u001b[39m\n\u001b[32m      1\u001b[39m yosh = \u001b[38;5;28minput\u001b[39m(\u001b[33m'\u001b[39m\u001b[33mYoshingizni kiriting: \u001b[39m\u001b[33m'\u001b[39m)\n\u001b[32m----> \u001b[39m\u001b[32m2\u001b[39m yosh = \u001b[38;5;28;43mint\u001b[39;49m\u001b[43m(\u001b[49m\u001b[43myosh\u001b[49m\u001b[43m)\u001b[49m\n\u001b[32m      4\u001b[39m \u001b[38;5;28mprint\u001b[39m(\u001b[33mf\u001b[39m\u001b[33m\"\u001b[39m\u001b[33mSiz \u001b[39m\u001b[38;5;132;01m{\u001b[39;00m\u001b[32m2025\u001b[39m\u001b[38;5;250m \u001b[39m-\u001b[38;5;250m \u001b[39myosh\u001b[38;5;132;01m}\u001b[39;00m\u001b[33m-yilda tug\u001b[39m\u001b[33m'\u001b[39m\u001b[33mulgansiz.\u001b[39m\u001b[33m\"\u001b[39m)\n",
      "\u001b[31mValueError\u001b[39m: invalid literal for int() with base 10: '26.5'"
     ]
    }
   ],
   "source": [
    "yosh = input('Yoshingizni kiriting: ')\n",
    "yosh = int(yosh)\n",
    "\n",
    "print(f\"Siz {2025 - yosh}-yilda tug'ulgansiz.\")"
   ]
  },
  {
   "cell_type": "markdown",
   "id": "5f3b520c",
   "metadata": {},
   "source": [
    "Agar yuqoridagi dasturga biz oyna ochilganda 25.5 ni kiritsak dastur xatolik chiqaradi. Agar shunaqa dastur ishlash jarayonida xatolik sodir bo'ladigan bo'lsa bunda python xatolik xabari haqida obyekt `exception` yaratadi va bu xatolikni ushlab olish mumkin."
   ]
  },
  {
   "cell_type": "code",
   "execution_count": 5,
   "id": "222a52be",
   "metadata": {},
   "outputs": [
    {
     "name": "stdout",
     "output_type": "stream",
     "text": [
      "Siz butun son kiritmadingiz...\n"
     ]
    }
   ],
   "source": [
    "yosh = input('Yoshingizni kiriting: ')\n",
    "\n",
    "try:\n",
    "  yosh = int(yosh)\n",
    "  print(f\"Siz {2025 - yosh}-yilda tug'ulgansiz.\")\n",
    "except:\n",
    "  print('Siz butun son kiritmadingiz...')"
   ]
  },
  {
   "cell_type": "markdown",
   "id": "7cfedb93",
   "metadata": {},
   "source": [
    "Istisno obyektlarni tutib olish uchun Pythonda maxsus try-except operatorlari bor. Bu operatorlar quyidagicha ishlaydi, try operatori badanida bajarish kerak bo'lgan kod yoziladi, except operatori badanida esa xatolik yuz berganda bajarilishi kerak bo'lgan kod yoziladi. Ya'ni dasturimiz to'xtab qolmasdan bajarilaveradi."
   ]
  },
  {
   "cell_type": "markdown",
   "id": "bda9b4e5",
   "metadata": {},
   "source": [
    "`Yozishdagi eng to'g'ri usul:`"
   ]
  },
  {
   "cell_type": "code",
   "execution_count": 7,
   "id": "3f3a8b8d",
   "metadata": {},
   "outputs": [
    {
     "name": "stdout",
     "output_type": "stream",
     "text": [
      "Siz butun son kiritmadingiz...\n",
      "Dastur davom etayapti...\n",
      "Dastur tugadi.\n"
     ]
    }
   ],
   "source": [
    "yosh = input('Yoshingizni kiriting: ')\n",
    "\n",
    "try:\n",
    "  yosh = int(yosh)\n",
    "except:\n",
    "  print('Siz butun son kiritmadingiz...')\n",
    "else:\n",
    "  print(f\"Siz {2025 - yosh}-yilda tug'ulgansiz.\")\n",
    "\n",
    "print('Dastur davom etayapti...')\n",
    "print('Dastur tugadi.')"
   ]
  },
  {
   "cell_type": "code",
   "execution_count": null,
   "id": "789dcb02",
   "metadata": {},
   "outputs": [],
   "source": []
  }
 ],
 "metadata": {
  "kernelspec": {
   "display_name": "Python 3",
   "language": "python",
   "name": "python3"
  },
  "language_info": {
   "codemirror_mode": {
    "name": "ipython",
    "version": 3
   },
   "file_extension": ".py",
   "mimetype": "text/x-python",
   "name": "python",
   "nbconvert_exporter": "python",
   "pygments_lexer": "ipython3",
   "version": "3.13.3"
  }
 },
 "nbformat": 4,
 "nbformat_minor": 5
}
